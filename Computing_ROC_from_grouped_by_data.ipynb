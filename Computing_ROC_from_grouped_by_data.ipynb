{
  "nbformat": 4,
  "nbformat_minor": 0,
  "metadata": {
    "colab": {
      "name": "Computing ROC from grouped by data",
      "provenance": [],
      "collapsed_sections": [],
      "authorship_tag": "ABX9TyPfWlnC/aTJGt59aKXZFWrx",
      "include_colab_link": true
    },
    "kernelspec": {
      "name": "python3",
      "display_name": "Python 3"
    },
    "language_info": {
      "name": "python"
    }
  },
  "cells": [
    {
      "cell_type": "markdown",
      "metadata": {
        "id": "view-in-github",
        "colab_type": "text"
      },
      "source": [
        "<a href=\"https://colab.research.google.com/github/Satyake/Deep-Learning/blob/master/Computing_ROC_from_grouped_by_data.ipynb\" target=\"_parent\"><img src=\"https://colab.research.google.com/assets/colab-badge.svg\" alt=\"Open In Colab\"/></a>"
      ]
    },
    {
      "cell_type": "code",
      "metadata": {
        "id": "kJQFbs8LD48T"
      },
      "source": [
        "data['cumulativefraud']=data['fraud_cnt'].cumsum()\n",
        "data['cumulativenonfraud']=data['non_fraud_cnt'].cumsum()\n",
        "data['cumulativetotal']=data['txn_cnt'].cumsum()\n",
        "\n",
        "data['fpr']=data['cumulativenonfraud']/data['non_fraud_cnt].sum()\n",
        "data['tpr']=data['cumulativefraud']/data['fraud_cnt'].sum()\n",
        "\n",
        "data['prec']=data['cumulativefraud']/data['cumulativefraud']+data['cumulativenonfraud']\n",
        "#following this call aucroc classical\n",
        "\n"
      ],
      "execution_count": null,
      "outputs": []
    },
    {
      "cell_type": "code",
      "metadata": {
        "id": "FjlPrWBcE8GC"
      },
      "source": [
        "#Memory Optimizaion Courtsey Dan\n",
        "\n",
        "def reduce_mem_usage(df):\n",
        "\n",
        "    \"\"\" iterate through all the columns of a dataframe and modify the data type\n",
        "\n",
        "        to reduce memory usage.       \n",
        "\n",
        "    \"\"\"\n",
        "\n",
        "    start_mem = df.memory_usage().sum() / 1024**2\n",
        "\n",
        "    print('Memory usage of dataframe is {:.2f} MB'.format(start_mem))\n",
        "\n",
        "   \n",
        "\n",
        "    for col in df.columns:\n",
        "\n",
        "        col_type = df[col].dtype\n",
        "\n",
        "       \n",
        "\n",
        "        if col_type != object:\n",
        "\n",
        "            c_min = df[col].min()\n",
        "\n",
        "            c_max = df[col].max()\n",
        "\n",
        "            if str(col_type)[:3] == 'int':\n",
        "\n",
        "                if c_min > np.iinfo(np.int8).min and c_max < np.iinfo(np.int8).max:\n",
        "\n",
        "                    df[col] = df[col].astype(np.int8)\n",
        "\n",
        "                elif c_min > np.iinfo(np.int16).min and c_max < np.iinfo(np.int16).max:\n",
        "\n",
        "                    df[col] = df[col].astype(np.int16)\n",
        "\n",
        "                elif c_min > np.iinfo(np.int32).min and c_max < np.iinfo(np.int32).max:\n",
        "\n",
        "                    df[col] = df[col].astype(np.int32)\n",
        "\n",
        "                elif c_min > np.iinfo(np.int64).min and c_max < np.iinfo(np.int64).max:\n",
        "\n",
        "                    df[col] = df[col].astype(np.int64) \n",
        "\n",
        "            else:\n",
        "\n",
        "                if c_min > np.finfo(np.float16).min and c_max < np.finfo(np.float16).max:\n",
        "\n",
        "                    df[col] = df[col].astype(np.float16)\n",
        "\n",
        "                elif c_min > np.finfo(np.float32).min and c_max < np.finfo(np.float32).max:\n",
        "\n",
        "                    df[col] = df[col].astype(np.float32)\n",
        "\n",
        "                else:\n",
        "\n",
        "                    df[col] = df[col].astype(np.float64)\n",
        "\n",
        "        else:\n",
        "\n",
        "            df[col] = df[col].astype('category')\n",
        "\n",
        " \n",
        "\n",
        "    end_mem = df.memory_usage().sum() / 1024**2\n",
        "\n",
        "    print('Memory usage after optimization is: {:.2f} MB'.format(end_mem))\n",
        "\n",
        "    print('Decreased by {:.1f}%'.format(100 * (start_mem - end_mem) / start_mem))\n",
        "\n",
        "   \n",
        "\n",
        "    return df\n",
        "\n"
      ],
      "execution_count": null,
      "outputs": []
    }
  ]
}