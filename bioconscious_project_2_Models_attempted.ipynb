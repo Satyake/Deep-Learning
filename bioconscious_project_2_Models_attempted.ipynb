{
  "nbformat": 4,
  "nbformat_minor": 0,
  "metadata": {
    "colab": {
      "name": "bioconscious project-2 Models attempted",
      "provenance": [],
      "machine_shape": "hm",
      "authorship_tag": "ABX9TyMgG0Ssq3K4/0/DG+gBX3d7",
      "include_colab_link": true
    },
    "kernelspec": {
      "name": "python3",
      "display_name": "Python 3"
    },
    "accelerator": "GPU"
  },
  "cells": [
    {
      "cell_type": "markdown",
      "metadata": {
        "id": "view-in-github",
        "colab_type": "text"
      },
      "source": [
        "<a href=\"https://colab.research.google.com/github/Satyake/Deep-Learning/blob/master/bioconscious_project_2_Models_attempted.ipynb\" target=\"_parent\"><img src=\"https://colab.research.google.com/assets/colab-badge.svg\" alt=\"Open In Colab\"/></a>"
      ]
    },
    {
      "cell_type": "markdown",
      "metadata": {
        "id": "rOaOWzDp3-h5"
      },
      "source": [
        "# I have tried 2 models first is a standard stacked GRU model and the second is an ARIMA based model (AutoRegressive Integrated Moving Average). Please find the results enclosed with the code."
      ]
    },
    {
      "cell_type": "markdown",
      "metadata": {
        "id": "FT_TMLglJtxB"
      },
      "source": [
        "# Model 1  Stacked GRU- MULTIVARIATE MODEL"
      ]
    },
    {
      "cell_type": "code",
      "metadata": {
        "id": "wbIFhwJCESvZ"
      },
      "source": [
        "# -*- coding: utf-8 -*-\r\n",
        "\"\"\"\r\n",
        "Created on Tue Mar  9 13:24:06 2021\r\n",
        "\r\n",
        "@author: Satyake\r\n",
        "\"\"\"\r\n",
        "import keras \r\n",
        "from keras.layers import LSTM,GRU,Conv1D,Flatten,Dropout,BatchNormalization,TimeDistributed\r\n",
        "from keras.layers import Dense\r\n",
        "from keras.models import Sequential\r\n",
        "import matplotlib.pyplot as plt\r\n",
        "\r\n",
        "import pandas as pd\r\n",
        "from keras.preprocessing.sequence import TimeseriesGenerator\r\n",
        "import numpy as np \r\n",
        "from sklearn.preprocessing import StandardScaler\r\n",
        "SC=StandardScaler()\r\n",
        "import pandas as pd\r\n",
        "\r\n",
        "\r\n",
        "\r\n",
        "\r\n",
        "\r\n"
      ],
      "execution_count": 15,
      "outputs": []
    },
    {
      "cell_type": "code",
      "metadata": {
        "id": "cT-WUsM3385r"
      },
      "source": [
        ""
      ],
      "execution_count": null,
      "outputs": []
    },
    {
      "cell_type": "code",
      "metadata": {
        "colab": {
          "base_uri": "https://localhost:8080/",
          "height": 225
        },
        "id": "gBW1oW1s2cLI",
        "outputId": "df57452f-6a5c-4078-c9cf-bb11f58c365f"
      },
      "source": [
        "glucose=pd.read_csv('/content/blood-glucose-data.csv')\r\n",
        "glucose.drop('timezone_offset',inplace=True,axis=1)\r\n",
        "glucose.head()\r\n",
        "glucose.plot(kind='line'  ) #visualize the entire glucose_data with their respective timestamps\r\n",
        "heart_rate=pd.read_csv('/content/heart-rate-data.csv')\r\n",
        "heart_rate.drop('timezone_offset',inplace=True,axis=1)\r\n",
        "heart_rate.head()\r\n",
        "heart_rate.plot(kind='line')\r\n",
        "dist=pd.read_csv('/content/distance-activity-data.csv')\r\n",
        "dist.drop('timezone_offset',inplace=True,axis=1)\r\n",
        "dist.plot()  #plotting the distance\r\n",
        "\r\n",
        "\r\n",
        "\r\n",
        "\r\n",
        "\r\n"
      ],
      "execution_count": 197,
      "outputs": [
        {
          "output_type": "execute_result",
          "data": {
            "text/html": [
              "<div>\n",
              "<style scoped>\n",
              "    .dataframe tbody tr th:only-of-type {\n",
              "        vertical-align: middle;\n",
              "    }\n",
              "\n",
              "    .dataframe tbody tr th {\n",
              "        vertical-align: top;\n",
              "    }\n",
              "\n",
              "    .dataframe thead th {\n",
              "        text-align: right;\n",
              "    }\n",
              "</style>\n",
              "<table border=\"1\" class=\"dataframe\">\n",
              "  <thead>\n",
              "    <tr style=\"text-align: right;\">\n",
              "      <th></th>\n",
              "      <th>point_value(mg/dL)</th>\n",
              "    </tr>\n",
              "    <tr>\n",
              "      <th>point_timestamp</th>\n",
              "      <th></th>\n",
              "    </tr>\n",
              "  </thead>\n",
              "  <tbody>\n",
              "    <tr>\n",
              "      <th>2017-05-15 07:51:22</th>\n",
              "      <td>142</td>\n",
              "    </tr>\n",
              "    <tr>\n",
              "      <th>2017-05-15 07:56:23</th>\n",
              "      <td>140</td>\n",
              "    </tr>\n",
              "    <tr>\n",
              "      <th>2017-05-15 08:01:22</th>\n",
              "      <td>138</td>\n",
              "    </tr>\n",
              "    <tr>\n",
              "      <th>2017-05-15 08:06:22</th>\n",
              "      <td>136</td>\n",
              "    </tr>\n",
              "    <tr>\n",
              "      <th>2017-05-15 08:11:23</th>\n",
              "      <td>130</td>\n",
              "    </tr>\n",
              "  </tbody>\n",
              "</table>\n",
              "</div>"
            ],
            "text/plain": [
              "                     point_value(mg/dL)\n",
              "point_timestamp                        \n",
              "2017-05-15 07:51:22                 142\n",
              "2017-05-15 07:56:23                 140\n",
              "2017-05-15 08:01:22                 138\n",
              "2017-05-15 08:06:22                 136\n",
              "2017-05-15 08:11:23                 130"
            ]
          },
          "metadata": {
            "tags": []
          },
          "execution_count": 197
        }
      ]
    },
    {
      "cell_type": "code",
      "metadata": {
        "id": "_n-SEjXk2gEm"
      },
      "source": [
        "import numpy as np \r\n",
        "import seaborn as sb\r\n",
        "import matplotlib.pyplot as plt\r\n",
        "x1=glucose['point_value(mg/dL)']\r\n",
        "x2=heart_rate['point_value']\r\n",
        "x3=dist['point_value(kilometers)']\r\n",
        "x1=np.array(x1)\r\n",
        "x2=np.array(x2)\r\n",
        "x3=np.array(x3)\r\n",
        "x1=x1[0:14702]\r\n",
        "x2=x2[0:14702]\r\n",
        "x3=x3[0:14702]\r\n",
        "x1=pd.DataFrame(x1)\r\n",
        "x2=pd.DataFrame(x2)\r\n",
        "x3=pd.DataFrame(x3)\r\n"
      ],
      "execution_count": 184,
      "outputs": []
    },
    {
      "cell_type": "markdown",
      "metadata": {
        "id": "tF3BlLIb3P8S"
      },
      "source": [
        "# Roughly 2.5 weeks was used for training and the remaining went into testing"
      ]
    },
    {
      "cell_type": "code",
      "metadata": {
        "colab": {
          "base_uri": "https://localhost:8080/"
        },
        "id": "W2Vz2kmQ2lhd",
        "outputId": "18c5313e-5cc4-4f65-bdf0-89a3ef2247f5"
      },
      "source": [
        "concatenated=pd.concat([x1,x2,x3],axis=1)\r\n",
        "concatenated.columns=['glucose','heart_rate','distance']\r\n",
        "concatenated.corr()\r\n",
        "#x11=concatenated.iloc[:,[0]].values\r\n",
        "train_scaled1=SC.fit_transform(concatenated)\r\n",
        "training=train_scaled1[0:4200]\r\n",
        "testing=train_scaled1[4200:]\r\n",
        "\r\n",
        "train_generator = TimeseriesGenerator(training, training, length=1, batch_size=32)     \r\n",
        "test_generator = TimeseriesGenerator(testing, testing, length=1, batch_size=1)\r\n",
        "model=Sequential()\r\n",
        "model.add(LSTM(100,activation='tanh',return_sequences=True,input_shape=(1,3)))\r\n",
        "#model.add(BatchNormalization())\r\n",
        "model.add(GRU(100,activation='relu',return_sequences=True))\r\n",
        "model.add(GRU(100,activation='relu',return_sequences=False))\r\n",
        "model.add(Dense(100))\r\n",
        "model.add(Dropout(0.4))\r\n",
        "model.add(Dense(3))\r\n",
        "model.compile(optimizer='adam',loss='mean_squared_error')\r\n",
        "model.fit(train_generator,epochs=20)"
      ],
      "execution_count": 185,
      "outputs": [
        {
          "output_type": "stream",
          "text": [
            "WARNING:tensorflow:Layer gru_41 will not use cuDNN kernel since it doesn't meet the cuDNN kernel criteria. It will use generic GPU kernel as fallback when running on GPU\n",
            "WARNING:tensorflow:Layer gru_42 will not use cuDNN kernel since it doesn't meet the cuDNN kernel criteria. It will use generic GPU kernel as fallback when running on GPU\n",
            "Epoch 1/20\n",
            "132/132 [==============================] - 6s 11ms/step - loss: 1.2236\n",
            "Epoch 2/20\n",
            "132/132 [==============================] - 2s 11ms/step - loss: 1.5737\n",
            "Epoch 3/20\n",
            "132/132 [==============================] - 2s 12ms/step - loss: 1.2203\n",
            "Epoch 4/20\n",
            "132/132 [==============================] - 2s 11ms/step - loss: 1.1813\n",
            "Epoch 5/20\n",
            "132/132 [==============================] - 2s 11ms/step - loss: 1.1275\n",
            "Epoch 6/20\n",
            "132/132 [==============================] - 2s 11ms/step - loss: 1.2133\n",
            "Epoch 7/20\n",
            "132/132 [==============================] - 1s 11ms/step - loss: 1.6124\n",
            "Epoch 8/20\n",
            "132/132 [==============================] - 2s 11ms/step - loss: 1.2301\n",
            "Epoch 9/20\n",
            "132/132 [==============================] - 2s 12ms/step - loss: 1.4070\n",
            "Epoch 10/20\n",
            "132/132 [==============================] - 2s 12ms/step - loss: 1.0930\n",
            "Epoch 11/20\n",
            "132/132 [==============================] - 1s 11ms/step - loss: 1.6281\n",
            "Epoch 12/20\n",
            "132/132 [==============================] - 2s 11ms/step - loss: 1.3544\n",
            "Epoch 13/20\n",
            "132/132 [==============================] - 2s 11ms/step - loss: 1.5015\n",
            "Epoch 14/20\n",
            "132/132 [==============================] - 2s 12ms/step - loss: 1.2009\n",
            "Epoch 15/20\n",
            "132/132 [==============================] - 2s 11ms/step - loss: 1.2157\n",
            "Epoch 16/20\n",
            "132/132 [==============================] - 2s 11ms/step - loss: 0.8631\n",
            "Epoch 17/20\n",
            "132/132 [==============================] - 2s 12ms/step - loss: 1.1495\n",
            "Epoch 18/20\n",
            "132/132 [==============================] - 2s 12ms/step - loss: 0.9987\n",
            "Epoch 19/20\n",
            "132/132 [==============================] - 2s 12ms/step - loss: 0.6805\n",
            "Epoch 20/20\n",
            "132/132 [==============================] - 2s 11ms/step - loss: 0.9443\n"
          ],
          "name": "stdout"
        },
        {
          "output_type": "execute_result",
          "data": {
            "text/plain": [
              "<tensorflow.python.keras.callbacks.History at 0x7f3750cfd150>"
            ]
          },
          "metadata": {
            "tags": []
          },
          "execution_count": 185
        }
      ]
    },
    {
      "cell_type": "code",
      "metadata": {
        "id": "XWTEIwh02Yq_"
      },
      "source": [
        ""
      ],
      "execution_count": null,
      "outputs": []
    },
    {
      "cell_type": "code",
      "metadata": {
        "id": "7PRKmRqqohYS"
      },
      "source": [
        "predict1=predict[0:2000]\r\n",
        "testing1=testing[0:2000]"
      ],
      "execution_count": 186,
      "outputs": []
    },
    {
      "cell_type": "code",
      "metadata": {
        "id": "Sz5UX1A6neNS"
      },
      "source": [
        "predict=model.predict(test_generator)\r\n",
        "\r\n"
      ],
      "execution_count": 187,
      "outputs": []
    },
    {
      "cell_type": "code",
      "metadata": {
        "id": "aGO8NTm5xUeQ"
      },
      "source": [
        "predict_train=model.predict(train_generator)\r\n"
      ],
      "execution_count": 163,
      "outputs": []
    },
    {
      "cell_type": "code",
      "metadata": {
        "colab": {
          "base_uri": "https://localhost:8080/"
        },
        "id": "bZgz2R-vw1ER",
        "outputId": "1f58a5d0-99b0-47eb-8325-41ee9e2e3601"
      },
      "source": [
        "predict.shape"
      ],
      "execution_count": 155,
      "outputs": [
        {
          "output_type": "execute_result",
          "data": {
            "text/plain": [
              "(10501, 3)"
            ]
          },
          "metadata": {
            "tags": []
          },
          "execution_count": 155
        }
      ]
    },
    {
      "cell_type": "markdown",
      "metadata": {
        "id": "Sqw8OfsN2324"
      },
      "source": [
        "#Visualisation of Predictions with the Test set.\r\n",
        "(First 1000 chosen for clarity)"
      ]
    },
    {
      "cell_type": "markdown",
      "metadata": {
        "id": "YjZS-EKQMS2X"
      },
      "source": [
        "# First row for Glucose\r\n",
        "# Second row for Heart Rate\r\n",
        "# Third row for Dist"
      ]
    },
    {
      "cell_type": "code",
      "metadata": {
        "colab": {
          "base_uri": "https://localhost:8080/",
          "height": 282
        },
        "id": "irGig8eOoAYS",
        "outputId": "85c73fa5-700f-4a87-dae4-9b4c71ea9076"
      },
      "source": [
        "\r\n",
        "\r\n",
        "plt.title('Test Predictions')\r\n",
        "plt.subplot(3,1,1)\r\n",
        "plt.plot(predict[0:1000,[0]],label='predicted')   \r\n",
        "plt.plot(testing[0:1000,[0]],label='test_truth')\r\n",
        "plt.subplot(3,1,2)\r\n",
        "plt.plot(predict[0:1000,[1]],label='predicted')   \r\n",
        "plt.plot(testing[0:1000,[1]],label='test_truth')\r\n",
        "plt.subplot(3,1,3)\r\n",
        "plt.plot(predict[0:1000,[2]],label='predicted')   \r\n",
        "plt.plot(testing[0:1000,[2]],label='test_truth')\r\n",
        "\r\n",
        "#orange denotes predicted \r\n",
        "#blue denotes truth\r\n"
      ],
      "execution_count": 189,
      "outputs": [
        {
          "output_type": "execute_result",
          "data": {
            "text/plain": [
              "[<matplotlib.lines.Line2D at 0x7f37d1a7ac90>]"
            ]
          },
          "metadata": {
            "tags": []
          },
          "execution_count": 189
        },
        {
          "output_type": "display_data",
          "data": {
            "image/png": "[encoded data removed]",
            "text/plain": [
              "<Figure size 432x288 with 3 Axes>"
            ]
          },
          "metadata": {
            "tags": [],
            "needs_background": "light"
          }
        }
      ]
    },
    {
      "cell_type": "code",
      "metadata": {
        "id": "ruYWHyJsxSs1"
      },
      "source": [
        ""
      ],
      "execution_count": null,
      "outputs": []
    },
    {
      "cell_type": "code",
      "metadata": {
        "id": "dujjBKDpzHkm"
      },
      "source": [
        ""
      ],
      "execution_count": null,
      "outputs": []
    },
    {
      "cell_type": "markdown",
      "metadata": {
        "id": "cV9WdMPf3HTO"
      },
      "source": [
        "# MSE of test set_predictions"
      ]
    },
    {
      "cell_type": "code",
      "metadata": {
        "colab": {
          "base_uri": "https://localhost:8080/"
        },
        "id": "R1pv30PIow3p",
        "outputId": "5daeda74-6a82-4187-f7d6-0b33739fc163"
      },
      "source": [
        "mean_squared_error(predict[:,[0]],testing[:10501,[0]])  #MSE Stacked LSTM GRU model timestep=1 \r\n",
        "#MSE of Glucose"
      ],
      "execution_count": 190,
      "outputs": [
        {
          "output_type": "execute_result",
          "data": {
            "text/plain": [
              "0.01043517553067773"
            ]
          },
          "metadata": {
            "tags": []
          },
          "execution_count": 190
        }
      ]
    },
    {
      "cell_type": "code",
      "metadata": {
        "colab": {
          "base_uri": "https://localhost:8080/"
        },
        "id": "Hc-kRC0UquXg",
        "outputId": "fc9eb438-2d68-46f0-e4ff-7bb2a3387a51"
      },
      "source": [
        "mean_squared_error(predict[:,[1]],testing[:10501,[1]])  #MSE Stacked LSTM GRU model timestep=1\r\n",
        "#MSE of heartrate"
      ],
      "execution_count": 191,
      "outputs": [
        {
          "output_type": "execute_result",
          "data": {
            "text/plain": [
              "0.020540157303367456"
            ]
          },
          "metadata": {
            "tags": []
          },
          "execution_count": 191
        }
      ]
    },
    {
      "cell_type": "code",
      "metadata": {
        "colab": {
          "base_uri": "https://localhost:8080/"
        },
        "id": "lYbeLkQHxAP6",
        "outputId": "76fa246f-99e5-46bc-a263-d1e46e16b918"
      },
      "source": [
        "mean_squared_error(predict[:,[2]],testing[:10501,[2]])  #MSE Stacked LSTM GRU mode timestep=1\r\n",
        "#MSE of distance covered"
      ],
      "execution_count": 192,
      "outputs": [
        {
          "output_type": "execute_result",
          "data": {
            "text/plain": [
              "0.5905567855420742"
            ]
          },
          "metadata": {
            "tags": []
          },
          "execution_count": 192
        }
      ]
    },
    {
      "cell_type": "code",
      "metadata": {
        "id": "5JnJgjz10uFv"
      },
      "source": [
        "test=test_generator.data"
      ],
      "execution_count": 169,
      "outputs": []
    },
    {
      "cell_type": "code",
      "metadata": {
        "colab": {
          "base_uri": "https://localhost:8080/"
        },
        "id": "cX8moDZB0ybE",
        "outputId": "54f85069-8511-45ce-f383-ca134d5b8b18"
      },
      "source": [
        "len(test)"
      ],
      "execution_count": 172,
      "outputs": [
        {
          "output_type": "execute_result",
          "data": {
            "text/plain": [
              "10502"
            ]
          },
          "metadata": {
            "tags": []
          },
          "execution_count": 172
        }
      ]
    },
    {
      "cell_type": "code",
      "metadata": {
        "id": "yg1RWi3U039e"
      },
      "source": [
        ""
      ],
      "execution_count": 173,
      "outputs": []
    },
    {
      "cell_type": "code",
      "metadata": {
        "colab": {
          "base_uri": "https://localhost:8080/"
        },
        "id": "aObrK3Og086X",
        "outputId": "8da0980e-0ea0-42f2-f57d-191cd3f6a314"
      },
      "source": [
        ""
      ],
      "execution_count": 176,
      "outputs": [
        {
          "output_type": "execute_result",
          "data": {
            "text/plain": [
              "(1, 3)"
            ]
          },
          "metadata": {
            "tags": []
          },
          "execution_count": 176
        }
      ]
    },
    {
      "cell_type": "markdown",
      "metadata": {
        "id": "fdITpOmWJnM6"
      },
      "source": [
        "# MODEL #2 ARIMA est.blood_glucose Univariate"
      ]
    },
    {
      "cell_type": "code",
      "metadata": {
        "colab": {
          "base_uri": "https://localhost:8080/",
          "height": 841
        },
        "id": "L2UhHKqN1SK0",
        "outputId": "a0d97b20-c950-4c95-e30c-e40783f946bb"
      },
      "source": [
        "glucose=pd.read_csv('/content/blood-glucose-data.csv',index_col=1,parse_dates=True)\r\n",
        "glucose.drop('timezone_offset',inplace=True,axis=1)\r\n",
        "glucose.head()\r\n",
        "glucose.plot(kind='line'  ) #visualize the entire glucose_data with their respective timestamps\r\n",
        "heart_rate=pd.read_csv('/content/heart-rate-data.csv',index_col=1,parse_dates=True)\r\n",
        "heart_rate.drop('timezone_offset',inplace=True,axis=1)\r\n",
        "heart_rate.head()\r\n",
        "heart_rate.plot(kind='line')\r\n",
        "dist=pd.read_csv('/content/distance-activity-data.csv',index_col=1,parse_dates=True)\r\n",
        "dist.drop('timezone_offset',inplace=True,axis=1)\r\n",
        "dist.plot()  #plotting the distance\r\n",
        "\r\n",
        "\r\n",
        "\r\n",
        "\r\n",
        "\r\n"
      ],
      "execution_count": 63,
      "outputs": [
        {
          "output_type": "execute_result",
          "data": {
            "text/plain": [
              "<matplotlib.axes._subplots.AxesSubplot at 0x7f61acff5b10>"
            ]
          },
          "metadata": {
            "tags": []
          },
          "execution_count": 63
        },
        {
          "output_type": "display_data",
          "data": {
            "image/png": "[encoded data removed]",
            "text/plain": [
              "<Figure size 432x288 with 1 Axes>"
            ]
          },
          "metadata": {
            "tags": [],
            "needs_background": "light"
          }
        },
        {
          "output_type": "display_data",
          "data": {
            "image/png": "[encoded data removed]",
            "text/plain": [
              "<Figure size 432x288 with 1 Axes>"
            ]
          },
          "metadata": {
            "tags": [],
            "needs_background": "light"
          }
        },
        {
          "output_type": "display_data",
          "data": {
            "image/png": "[encoded data removed]",
            "text/plain": [
              "<Figure size 432x288 with 1 Axes>"
            ]
          },
          "metadata": {
            "tags": [],
            "needs_background": "light"
          }
        }
      ]
    },
    {
      "cell_type": "code",
      "metadata": {
        "colab": {
          "base_uri": "https://localhost:8080/"
        },
        "id": "Tc8qUvfT4xca",
        "outputId": "d13b7897-7718-4b88-e299-9bbcf02899cf"
      },
      "source": [
        "\r\n",
        "from statsmodels.tsa.statespace.sarimax import SARIMAX\r\n",
        "from statsmodels.tsa.seasonal import seasonal_decompose"
      ],
      "execution_count": 199,
      "outputs": [
        {
          "output_type": "stream",
          "text": [
            "/usr/local/lib/python3.7/dist-packages/statsmodels/tools/_testing.py:19: FutureWarning: pandas.util.testing is deprecated. Use the functions in the public API at pandas.testing instead.\n",
            "  import pandas.util.testing as tm\n"
          ],
          "name": "stderr"
        }
      ]
    },
    {
      "cell_type": "code",
      "metadata": {
        "colab": {
          "base_uri": "https://localhost:8080/",
          "height": 592
        },
        "id": "bzw1RIZO5DKk",
        "outputId": "61a3f95d-6fa0-4f31-8d8c-7aa3b4f5ccc8"
      },
      "source": [
        "!pip install pmdarima"
      ],
      "execution_count": 203,
      "outputs": [
        {
          "output_type": "stream",
          "text": [
            "Collecting pmdarima\n",
            "\u001b[?25l  Downloading https://files.pythonhosted.org/packages/e4/a8/bdf15174e35d072e145d16388b1d3bc7605b752610170cb022a290411427/pmdarima-1.8.0-cp37-cp37m-manylinux1_x86_64.whl (1.5MB)\n",
            "\u001b[K     |████████████████████████████████| 1.5MB 11.0MB/s \n",
            "\u001b[?25hCollecting Cython<0.29.18,>=0.29\n",
            "\u001b[?25l  Downloading https://files.pythonhosted.org/packages/dc/6c/198da24bf0a1d5b5ee6119e891c5300bb1b0b8904832fac9ff62d4e381c9/Cython-0.29.17-cp37-cp37m-manylinux1_x86_64.whl (2.1MB)\n",
            "\u001b[K     |████████████████████████████████| 2.1MB 48.4MB/s \n",
            "\u001b[?25hRequirement already satisfied: scipy>=1.3.2 in /usr/local/lib/python3.7/dist-packages (from pmdarima) (1.4.1)\n",
            "Requirement already satisfied: pandas>=0.19 in /usr/local/lib/python3.7/dist-packages (from pmdarima) (1.1.5)\n",
            "Collecting statsmodels!=0.12.0,>=0.11\n",
            "\u001b[?25l  Downloading https://files.pythonhosted.org/packages/da/69/8eef30a6237c54f3c0b524140e2975f4b1eea3489b45eb3339574fc8acee/statsmodels-0.12.2-cp37-cp37m-manylinux1_x86_64.whl (9.5MB)\n",
            "\u001b[K     |████████████████████████████████| 9.5MB 20.5MB/s \n",
            "\u001b[?25hRequirement already satisfied: scikit-learn>=0.22 in /usr/local/lib/python3.7/dist-packages (from pmdarima) (0.22.2.post1)\n",
            "Requirement already satisfied: numpy>=1.17.3 in /usr/local/lib/python3.7/dist-packages (from pmdarima) (1.19.5)\n",
            "Requirement already satisfied: urllib3 in /usr/local/lib/python3.7/dist-packages (from pmdarima) (1.24.3)\n",
            "Requirement already satisfied: setuptools!=50.0.0,>=38.6.0 in /usr/local/lib/python3.7/dist-packages (from pmdarima) (54.0.0)\n",
            "Requirement already satisfied: joblib>=0.11 in /usr/local/lib/python3.7/dist-packages (from pmdarima) (1.0.1)\n",
            "Requirement already satisfied: pytz>=2017.2 in /usr/local/lib/python3.7/dist-packages (from pandas>=0.19->pmdarima) (2018.9)\n",
            "Requirement already satisfied: python-dateutil>=2.7.3 in /usr/local/lib/python3.7/dist-packages (from pandas>=0.19->pmdarima) (2.8.1)\n",
            "Requirement already satisfied: patsy>=0.5 in /usr/local/lib/python3.7/dist-packages (from statsmodels!=0.12.0,>=0.11->pmdarima) (0.5.1)\n",
            "Requirement already satisfied: six>=1.5 in /usr/local/lib/python3.7/dist-packages (from python-dateutil>=2.7.3->pandas>=0.19->pmdarima) (1.15.0)\n",
            "Installing collected packages: Cython, statsmodels, pmdarima\n",
            "  Found existing installation: Cython 0.29.22\n",
            "    Uninstalling Cython-0.29.22:\n",
            "      Successfully uninstalled Cython-0.29.22\n",
            "  Found existing installation: statsmodels 0.10.2\n",
            "    Uninstalling statsmodels-0.10.2:\n",
            "      Successfully uninstalled statsmodels-0.10.2\n",
            "Successfully installed Cython-0.29.17 pmdarima-1.8.0 statsmodels-0.12.2\n"
          ],
          "name": "stdout"
        },
        {
          "output_type": "display_data",
          "data": {
            "application/vnd.colab-display-data+json": {
              "pip_warning": {
                "packages": [
                  "statsmodels"
                ]
              }
            }
          },
          "metadata": {
            "tags": []
          }
        }
      ]
    },
    {
      "cell_type": "code",
      "metadata": {
        "id": "V0TgBAFS1AAI"
      },
      "source": [
        "from pmdarima import auto_arima,plot_acf\r\n",
        "\r\n"
      ],
      "execution_count": 64,
      "outputs": []
    },
    {
      "cell_type": "code",
      "metadata": {
        "id": "gnNqnaYQ-6-i"
      },
      "source": [
        "glucose_resampled_by_hour=glucose.resample('60T').sum()"
      ],
      "execution_count": 109,
      "outputs": []
    },
    {
      "cell_type": "code",
      "metadata": {
        "colab": {
          "base_uri": "https://localhost:8080/",
          "height": 431
        },
        "id": "kXiMWnpiAm4K",
        "outputId": "b40da4f7-ede5-4425-923b-8b7cc49cd1d5"
      },
      "source": [
        "glucose_resampled_by_hour"
      ],
      "execution_count": 110,
      "outputs": [
        {
          "output_type": "execute_result",
          "data": {
            "text/html": [
              "<div>\n",
              "<style scoped>\n",
              "    .dataframe tbody tr th:only-of-type {\n",
              "        vertical-align: middle;\n",
              "    }\n",
              "\n",
              "    .dataframe tbody tr th {\n",
              "        vertical-align: top;\n",
              "    }\n",
              "\n",
              "    .dataframe thead th {\n",
              "        text-align: right;\n",
              "    }\n",
              "</style>\n",
              "<table border=\"1\" class=\"dataframe\">\n",
              "  <thead>\n",
              "    <tr style=\"text-align: right;\">\n",
              "      <th></th>\n",
              "      <th>point_value(mg/dL)</th>\n",
              "    </tr>\n",
              "    <tr>\n",
              "      <th>point_timestamp</th>\n",
              "      <th></th>\n",
              "    </tr>\n",
              "  </thead>\n",
              "  <tbody>\n",
              "    <tr>\n",
              "      <th>2017-05-15 07:00:00</th>\n",
              "      <td>282</td>\n",
              "    </tr>\n",
              "    <tr>\n",
              "      <th>2017-05-15 08:00:00</th>\n",
              "      <td>1379</td>\n",
              "    </tr>\n",
              "    <tr>\n",
              "      <th>2017-05-15 09:00:00</th>\n",
              "      <td>910</td>\n",
              "    </tr>\n",
              "    <tr>\n",
              "      <th>2017-05-15 10:00:00</th>\n",
              "      <td>780</td>\n",
              "    </tr>\n",
              "    <tr>\n",
              "      <th>2017-05-15 11:00:00</th>\n",
              "      <td>1255</td>\n",
              "    </tr>\n",
              "    <tr>\n",
              "      <th>...</th>\n",
              "      <td>...</td>\n",
              "    </tr>\n",
              "    <tr>\n",
              "      <th>2017-07-15 03:00:00</th>\n",
              "      <td>519</td>\n",
              "    </tr>\n",
              "    <tr>\n",
              "      <th>2017-07-15 04:00:00</th>\n",
              "      <td>1286</td>\n",
              "    </tr>\n",
              "    <tr>\n",
              "      <th>2017-07-15 05:00:00</th>\n",
              "      <td>2300</td>\n",
              "    </tr>\n",
              "    <tr>\n",
              "      <th>2017-07-15 06:00:00</th>\n",
              "      <td>2478</td>\n",
              "    </tr>\n",
              "    <tr>\n",
              "      <th>2017-07-15 07:00:00</th>\n",
              "      <td>2192</td>\n",
              "    </tr>\n",
              "  </tbody>\n",
              "</table>\n",
              "<p>1465 rows × 1 columns</p>\n",
              "</div>"
            ],
            "text/plain": [
              "                     point_value(mg/dL)\n",
              "point_timestamp                        \n",
              "2017-05-15 07:00:00                 282\n",
              "2017-05-15 08:00:00                1379\n",
              "2017-05-15 09:00:00                 910\n",
              "2017-05-15 10:00:00                 780\n",
              "2017-05-15 11:00:00                1255\n",
              "...                                 ...\n",
              "2017-07-15 03:00:00                 519\n",
              "2017-07-15 04:00:00                1286\n",
              "2017-07-15 05:00:00                2300\n",
              "2017-07-15 06:00:00                2478\n",
              "2017-07-15 07:00:00                2192\n",
              "\n",
              "[1465 rows x 1 columns]"
            ]
          },
          "metadata": {
            "tags": []
          },
          "execution_count": 110
        }
      ]
    },
    {
      "cell_type": "markdown",
      "metadata": {
        "id": "9MF7eBR1JdXp"
      },
      "source": [
        "# ARIMA orders established by Hyperparameter Tunning (GridSearch)"
      ]
    },
    {
      "cell_type": "code",
      "metadata": {
        "colab": {
          "base_uri": "https://localhost:8080/",
          "height": 446
        },
        "id": "Oj8feSBJ6MBr",
        "outputId": "207db76a-b878-451f-d689-bb91b152e41f"
      },
      "source": [
        "auto_arima(glucose['point_value(mg/dL)']).summary()\r\n"
      ],
      "execution_count": 65,
      "outputs": [
        {
          "output_type": "execute_result",
          "data": {
            "text/html": [
              "<table class=\"simpletable\">\n",
              "<caption>SARIMAX Results</caption>\n",
              "<tr>\n",
              "  <th>Dep. Variable:</th>           <td>y</td>        <th>  No. Observations:  </th>    <td>14702</td>  \n",
              "</tr>\n",
              "<tr>\n",
              "  <th>Model:</th>           <td>SARIMAX(3, 1, 1)</td> <th>  Log Likelihood     </th> <td>-47200.362</td>\n",
              "</tr>\n",
              "<tr>\n",
              "  <th>Date:</th>            <td>Tue, 09 Mar 2021</td> <th>  AIC                </th>  <td>94410.724</td>\n",
              "</tr>\n",
              "<tr>\n",
              "  <th>Time:</th>                <td>22:10:20</td>     <th>  BIC                </th>  <td>94448.702</td>\n",
              "</tr>\n",
              "<tr>\n",
              "  <th>Sample:</th>                  <td>0</td>        <th>  HQIC               </th>  <td>94423.337</td>\n",
              "</tr>\n",
              "<tr>\n",
              "  <th></th>                     <td> - 14702</td>     <th>                     </th>      <td> </td>    \n",
              "</tr>\n",
              "<tr>\n",
              "  <th>Covariance Type:</th>        <td>opg</td>       <th>                     </th>      <td> </td>    \n",
              "</tr>\n",
              "</table>\n",
              "<table class=\"simpletable\">\n",
              "<tr>\n",
              "     <td></td>       <th>coef</th>     <th>std err</th>      <th>z</th>      <th>P>|z|</th>  <th>[0.025</th>    <th>0.975]</th>  \n",
              "</tr>\n",
              "<tr>\n",
              "  <th>ar.L1</th>  <td>    0.5502</td> <td>    0.045</td> <td>   12.361</td> <td> 0.000</td> <td>    0.463</td> <td>    0.637</td>\n",
              "</tr>\n",
              "<tr>\n",
              "  <th>ar.L2</th>  <td>    0.0789</td> <td>    0.016</td> <td>    5.052</td> <td> 0.000</td> <td>    0.048</td> <td>    0.110</td>\n",
              "</tr>\n",
              "<tr>\n",
              "  <th>ar.L3</th>  <td>    0.0690</td> <td>    0.009</td> <td>    7.947</td> <td> 0.000</td> <td>    0.052</td> <td>    0.086</td>\n",
              "</tr>\n",
              "<tr>\n",
              "  <th>ma.L1</th>  <td>   -0.2081</td> <td>    0.045</td> <td>   -4.674</td> <td> 0.000</td> <td>   -0.295</td> <td>   -0.121</td>\n",
              "</tr>\n",
              "<tr>\n",
              "  <th>sigma2</th> <td>   35.9983</td> <td>    0.028</td> <td> 1263.835</td> <td> 0.000</td> <td>   35.943</td> <td>   36.054</td>\n",
              "</tr>\n",
              "</table>\n",
              "<table class=\"simpletable\">\n",
              "<tr>\n",
              "  <th>Ljung-Box (L1) (Q):</th>     <td>0.00</td> <th>  Jarque-Bera (JB):  </th> <td>127365448.89</td>\n",
              "</tr>\n",
              "<tr>\n",
              "  <th>Prob(Q):</th>                <td>0.99</td> <th>  Prob(JB):          </th>     <td>0.00</td>    \n",
              "</tr>\n",
              "<tr>\n",
              "  <th>Heteroskedasticity (H):</th> <td>0.75</td> <th>  Skew:              </th>     <td>1.01</td>    \n",
              "</tr>\n",
              "<tr>\n",
              "  <th>Prob(H) (two-sided):</th>    <td>0.00</td> <th>  Kurtosis:          </th>    <td>458.99</td>   \n",
              "</tr>\n",
              "</table><br/><br/>Warnings:<br/>[1] Covariance matrix calculated using the outer product of gradients (complex-step)."
            ],
            "text/plain": [
              "<class 'statsmodels.iolib.summary.Summary'>\n",
              "\"\"\"\n",
              "                               SARIMAX Results                                \n",
              "==============================================================================\n",
              "Dep. Variable:                      y   No. Observations:                14702\n",
              "Model:               SARIMAX(3, 1, 1)   Log Likelihood              -47200.362\n",
              "Date:                Tue, 09 Mar 2021   AIC                          94410.724\n",
              "Time:                        22:10:20   BIC                          94448.702\n",
              "Sample:                             0   HQIC                         94423.337\n",
              "                              - 14702                                         \n",
              "Covariance Type:                  opg                                         \n",
              "==============================================================================\n",
              "                 coef    std err          z      P>|z|      [0.025      0.975]\n",
              "------------------------------------------------------------------------------\n",
              "ar.L1          0.5502      0.045     12.361      0.000       0.463       0.637\n",
              "ar.L2          0.0789      0.016      5.052      0.000       0.048       0.110\n",
              "ar.L3          0.0690      0.009      7.947      0.000       0.052       0.086\n",
              "ma.L1         -0.2081      0.045     -4.674      0.000      -0.295      -0.121\n",
              "sigma2        35.9983      0.028   1263.835      0.000      35.943      36.054\n",
              "===================================================================================\n",
              "Ljung-Box (L1) (Q):                   0.00   Jarque-Bera (JB):         127365448.89\n",
              "Prob(Q):                              0.99   Prob(JB):                         0.00\n",
              "Heteroskedasticity (H):               0.75   Skew:                             1.01\n",
              "Prob(H) (two-sided):                  0.00   Kurtosis:                       458.99\n",
              "===================================================================================\n",
              "\n",
              "Warnings:\n",
              "[1] Covariance matrix calculated using the outer product of gradients (complex-step).\n",
              "\"\"\""
            ]
          },
          "metadata": {
            "tags": []
          },
          "execution_count": 65
        }
      ]
    },
    {
      "cell_type": "code",
      "metadata": {
        "id": "IilXg5CLCJPz"
      },
      "source": [
        ""
      ],
      "execution_count": null,
      "outputs": []
    },
    {
      "cell_type": "code",
      "metadata": {
        "id": "cCNecZpd8G27"
      },
      "source": [
        "from statsmodels.tsa.statespace.sarimax import SARIMAX\r\n"
      ],
      "execution_count": 38,
      "outputs": []
    },
    {
      "cell_type": "code",
      "metadata": {
        "colab": {
          "base_uri": "https://localhost:8080/"
        },
        "id": "qTeuXPZwAd-W",
        "outputId": "858c57dc-9415-47bc-8af6-c2a5302343cc"
      },
      "source": [
        "len(glucose_resampled_by_hour)"
      ],
      "execution_count": 40,
      "outputs": [
        {
          "output_type": "execute_result",
          "data": {
            "text/plain": [
              "1465"
            ]
          },
          "metadata": {
            "tags": []
          },
          "execution_count": 40
        }
      ]
    },
    {
      "cell_type": "code",
      "metadata": {
        "colab": {
          "base_uri": "https://localhost:8080/"
        },
        "id": "McjAciAq73LZ",
        "outputId": "7a315a3f-8301-4be2-a51a-48cc8e272006"
      },
      "source": [
        "model=SARIMAX(glucose['point_value(mg/dL)'],order=(3,1,1),seasonal_order=None)\r\n"
      ],
      "execution_count": 95,
      "outputs": [
        {
          "output_type": "stream",
          "text": [
            "/usr/local/lib/python3.7/dist-packages/statsmodels/tsa/base/tsa_model.py:583: ValueWarning: A date index has been provided, but it has no associated frequency information and so will be ignored when e.g. forecasting.\n",
            "  ' ignored when e.g. forecasting.', ValueWarning)\n",
            "/usr/local/lib/python3.7/dist-packages/statsmodels/tsa/base/tsa_model.py:583: ValueWarning: A date index has been provided, but it has no associated frequency information and so will be ignored when e.g. forecasting.\n",
            "  ' ignored when e.g. forecasting.', ValueWarning)\n"
          ],
          "name": "stderr"
        }
      ]
    },
    {
      "cell_type": "code",
      "metadata": {
        "id": "ZxrO_9-g8MsJ"
      },
      "source": [
        "train=glucose.iloc[:4200]\r\n",
        "test=glucose.iloc[4200:]\r\n"
      ],
      "execution_count": 96,
      "outputs": []
    },
    {
      "cell_type": "code",
      "metadata": {
        "id": "tb0QLXz58czs"
      },
      "source": [
        "fitted_model=model.fit()\r\n"
      ],
      "execution_count": 97,
      "outputs": []
    },
    {
      "cell_type": "code",
      "metadata": {
        "colab": {
          "base_uri": "https://localhost:8080/"
        },
        "id": "5HLnDcRcDrPV",
        "outputId": "34ad45fe-af2d-4e89-e955-af2a87ec965f"
      },
      "source": [
        "len(test)"
      ],
      "execution_count": 83,
      "outputs": [
        {
          "output_type": "execute_result",
          "data": {
            "text/plain": [
              "10502"
            ]
          },
          "metadata": {
            "tags": []
          },
          "execution_count": 83
        }
      ]
    },
    {
      "cell_type": "code",
      "metadata": {
        "id": "6K3YQld-8kL4"
      },
      "source": [
        "start=len(train)\r\n",
        "end=len(train)+len(test)-1\r\n",
        "results=fitted_model.predict(start=start,end=end,typ='levels')"
      ],
      "execution_count": 98,
      "outputs": []
    },
    {
      "cell_type": "code",
      "metadata": {
        "colab": {
          "base_uri": "https://localhost:8080/"
        },
        "id": "2VKl9IoO-A8W",
        "outputId": "6b13b460-18a3-42f5-abe6-dc694f0989ef"
      },
      "source": [
        "results"
      ],
      "execution_count": 99,
      "outputs": [
        {
          "output_type": "execute_result",
          "data": {
            "text/plain": [
              "point_timestamp\n",
              "2017-05-31 02:12:46     87.886276\n",
              "2017-05-31 02:17:45     83.747656\n",
              "2017-05-31 02:22:46     80.981984\n",
              "2017-05-31 02:27:46     78.040667\n",
              "2017-05-31 02:32:46     76.464036\n",
              "                          ...    \n",
              "2017-07-15 07:29:50    217.099019\n",
              "2017-07-15 07:34:51    215.560248\n",
              "2017-07-15 07:39:50    221.336092\n",
              "2017-07-15 07:44:50    220.524823\n",
              "2017-07-15 07:49:50    224.411728\n",
              "Name: predicted_mean, Length: 10502, dtype: float64"
            ]
          },
          "metadata": {
            "tags": []
          },
          "execution_count": 99
        }
      ]
    },
    {
      "cell_type": "markdown",
      "metadata": {
        "id": "zACMqotU-BwH"
      },
      "source": [
        "# Visualisation of ARIMA prediction"
      ]
    },
    {
      "cell_type": "code",
      "metadata": {
        "colab": {
          "base_uri": "https://localhost:8080/",
          "height": 282
        },
        "id": "6xGRgplj8qy1",
        "outputId": "ee87bbfe-776a-4bc7-d2a6-c6c9a2a0b0d2"
      },
      "source": [
        "plt.plot(test) \r\n",
        "plt.plot(results)\r\n",
        "plt.figure(figsize=(300,100))\r\n",
        "plt.show() \r\n",
        "#plotting last few points for readability"
      ],
      "execution_count": 80,
      "outputs": [
        {
          "output_type": "display_data",
          "data": {
            "image/png": "[encoded data removed]",
            "text/plain": [
              "<Figure size 432x288 with 1 Axes>"
            ]
          },
          "metadata": {
            "tags": [],
            "needs_background": "light"
          }
        },
        {
          "output_type": "display_data",
          "data": {
            "text/plain": [
              "<Figure size 21600x7200 with 0 Axes>"
            ]
          },
          "metadata": {
            "tags": []
          }
        }
      ]
    },
    {
      "cell_type": "code",
      "metadata": {
        "colab": {
          "base_uri": "https://localhost:8080/",
          "height": 282
        },
        "id": "MmUOuG41-NOz",
        "outputId": "29009d4a-f5ec-4f0d-fdac-be0ca06ee4a9"
      },
      "source": [
        "plt.plot(test[10402:]) \r\n",
        "plt.plot(results[10402:])\r\n",
        "plt.figure(figsize=(300,100))\r\n",
        "plt.show() \r\n",
        "#plotting last few points for readability"
      ],
      "execution_count": 84,
      "outputs": [
        {
          "output_type": "display_data",
          "data": {
            "image/png": "[encoded data removed]",
            "text/plain": [
              "<Figure size 432x288 with 1 Axes>"
            ]
          },
          "metadata": {
            "tags": [],
            "needs_background": "light"
          }
        },
        {
          "output_type": "display_data",
          "data": {
            "text/plain": [
              "<Figure size 21600x7200 with 0 Axes>"
            ]
          },
          "metadata": {
            "tags": []
          }
        }
      ]
    },
    {
      "cell_type": "markdown",
      "metadata": {
        "id": "qLJ6QjBWJ5Dh"
      },
      "source": [
        "\r\n",
        "\r\n",
        "```\r\n",
        "\r\n",
        "```\r\n",
        "\r\n",
        "# RMSE of the Trained ARIMA model"
      ]
    },
    {
      "cell_type": "code",
      "metadata": {
        "colab": {
          "base_uri": "https://localhost:8080/"
        },
        "id": "DQp64dpXBkSM",
        "outputId": "e0d5a223-1477-4f11-f4e6-c831b90adcaa"
      },
      "source": [
        "from statsmodels.tools.eval_measures import rmse\r\n",
        "error=rmse(test['point_value(mg/dL)'],results)\r\n",
        "error"
      ],
      "execution_count": 86,
      "outputs": [
        {
          "output_type": "execute_result",
          "data": {
            "text/plain": [
              "6.252632471977822"
            ]
          },
          "metadata": {
            "tags": []
          },
          "execution_count": 86
        }
      ]
    },
    {
      "cell_type": "markdown",
      "metadata": {
        "id": "o-subIbgEb0-"
      },
      "source": [
        "# Predict into Unknown Future \r\n",
        "13 steps approximately equates to an hour of prediction 60 minutes into the future."
      ]
    },
    {
      "cell_type": "code",
      "metadata": {
        "colab": {
          "base_uri": "https://localhost:8080/"
        },
        "id": "65K4KpnlB0vm",
        "outputId": "7da81871-3845-4cd1-d9eb-2eb45973503f"
      },
      "source": [
        "model_full=SARIMAX(glucose['point_value(mg/dL)'],order=(3,1,1),seasonal_order=None)\r\n",
        "start=len(train)\r\n",
        "end=len(train)+len(test)+13\r\n",
        "fitted_model=model_full.fit()\r\n",
        "results=fitted_model.predict(start=start,end=end,typ='levels')"
      ],
      "execution_count": 111,
      "outputs": [
        {
          "output_type": "stream",
          "text": [
            "/usr/local/lib/python3.7/dist-packages/statsmodels/tsa/base/tsa_model.py:583: ValueWarning: A date index has been provided, but it has no associated frequency information and so will be ignored when e.g. forecasting.\n",
            "  ' ignored when e.g. forecasting.', ValueWarning)\n",
            "/usr/local/lib/python3.7/dist-packages/statsmodels/tsa/base/tsa_model.py:583: ValueWarning: A date index has been provided, but it has no associated frequency information and so will be ignored when e.g. forecasting.\n",
            "  ' ignored when e.g. forecasting.', ValueWarning)\n",
            "/usr/local/lib/python3.7/dist-packages/statsmodels/tsa/base/tsa_model.py:379: ValueWarning: No supported index is available. Prediction results will be given with an integer index beginning at `start`.\n",
            "  ValueWarning)\n"
          ],
          "name": "stderr"
        }
      ]
    },
    {
      "cell_type": "code",
      "metadata": {
        "colab": {
          "base_uri": "https://localhost:8080/"
        },
        "id": "mdbW3sYnFNgW",
        "outputId": "ac65c933-d518-4533-d20a-ed70e6a97860"
      },
      "source": [
        "results"
      ],
      "execution_count": 104,
      "outputs": [
        {
          "output_type": "execute_result",
          "data": {
            "text/plain": [
              "4200      87.886276\n",
              "4201      83.747656\n",
              "4202      80.981984\n",
              "4203      78.040667\n",
              "4204      76.464036\n",
              "            ...    \n",
              "14728    230.687910\n",
              "14729    230.689041\n",
              "14730    230.689911\n",
              "14731    230.690580\n",
              "14732    230.691095\n",
              "Name: predicted_mean, Length: 10533, dtype: float64"
            ]
          },
          "metadata": {
            "tags": []
          },
          "execution_count": 104
        }
      ]
    },
    {
      "cell_type": "code",
      "metadata": {
        "colab": {
          "base_uri": "https://localhost:8080/",
          "height": 282
        },
        "id": "1vac0DZXE5YI",
        "outputId": "62f2ff83-9e13-43bd-9470-d613b8a2ba22"
      },
      "source": [
        "plt.plot(results[10402:])\r\n",
        "\r\n"
      ],
      "execution_count": 112,
      "outputs": [
        {
          "output_type": "execute_result",
          "data": {
            "text/plain": [
              "[<matplotlib.lines.Line2D at 0x7f61ac9fef50>]"
            ]
          },
          "metadata": {
            "tags": []
          },
          "execution_count": 112
        },
        {
          "output_type": "display_data",
          "data": {
            "image/png": "[encoded data removed]",
            "text/plain": [
              "<Figure size 432x288 with 1 Axes>"
            ]
          },
          "metadata": {
            "tags": [],
            "needs_background": "light"
          }
        }
      ]
    },
    {
      "cell_type": "code",
      "metadata": {
        "id": "5_Q-2CbgG_Fg"
      },
      "source": [
        "results_df=pd.DataFrame(results)\r\n",
        "results_df=results_df[10502:]"
      ],
      "execution_count": 117,
      "outputs": []
    },
    {
      "cell_type": "code",
      "metadata": {
        "colab": {
          "base_uri": "https://localhost:8080/",
          "height": 462
        },
        "id": "NUoDuD6YHipU",
        "outputId": "d489315a-0016-40a6-a664-c7d83b7c5060"
      },
      "source": [
        "results_df"
      ],
      "execution_count": 118,
      "outputs": [
        {
          "output_type": "execute_result",
          "data": {
            "text/html": [
              "<div>\n",
              "<style scoped>\n",
              "    .dataframe tbody tr th:only-of-type {\n",
              "        vertical-align: middle;\n",
              "    }\n",
              "\n",
              "    .dataframe tbody tr th {\n",
              "        vertical-align: top;\n",
              "    }\n",
              "\n",
              "    .dataframe thead th {\n",
              "        text-align: right;\n",
              "    }\n",
              "</style>\n",
              "<table border=\"1\" class=\"dataframe\">\n",
              "  <thead>\n",
              "    <tr style=\"text-align: right;\">\n",
              "      <th></th>\n",
              "      <th>predicted_mean</th>\n",
              "    </tr>\n",
              "  </thead>\n",
              "  <tbody>\n",
              "    <tr>\n",
              "      <th>14702</th>\n",
              "      <td>226.214898</td>\n",
              "    </tr>\n",
              "    <tr>\n",
              "      <th>14703</th>\n",
              "      <td>227.248381</td>\n",
              "    </tr>\n",
              "    <tr>\n",
              "      <th>14704</th>\n",
              "      <td>228.051026</td>\n",
              "    </tr>\n",
              "    <tr>\n",
              "      <th>14705</th>\n",
              "      <td>228.658135</td>\n",
              "    </tr>\n",
              "    <tr>\n",
              "      <th>14706</th>\n",
              "      <td>229.126904</td>\n",
              "    </tr>\n",
              "    <tr>\n",
              "      <th>14707</th>\n",
              "      <td>229.488180</td>\n",
              "    </tr>\n",
              "    <tr>\n",
              "      <th>14708</th>\n",
              "      <td>229.765888</td>\n",
              "    </tr>\n",
              "    <tr>\n",
              "      <th>14709</th>\n",
              "      <td>229.979577</td>\n",
              "    </tr>\n",
              "    <tr>\n",
              "      <th>14710</th>\n",
              "      <td>230.144023</td>\n",
              "    </tr>\n",
              "    <tr>\n",
              "      <th>14711</th>\n",
              "      <td>230.270549</td>\n",
              "    </tr>\n",
              "    <tr>\n",
              "      <th>14712</th>\n",
              "      <td>230.367903</td>\n",
              "    </tr>\n",
              "    <tr>\n",
              "      <th>14713</th>\n",
              "      <td>230.442813</td>\n",
              "    </tr>\n",
              "    <tr>\n",
              "      <th>14714</th>\n",
              "      <td>230.500451</td>\n",
              "    </tr>\n",
              "    <tr>\n",
              "      <th>14715</th>\n",
              "      <td>230.544801</td>\n",
              "    </tr>\n",
              "  </tbody>\n",
              "</table>\n",
              "</div>"
            ],
            "text/plain": [
              "       predicted_mean\n",
              "14702      226.214898\n",
              "14703      227.248381\n",
              "14704      228.051026\n",
              "14705      228.658135\n",
              "14706      229.126904\n",
              "14707      229.488180\n",
              "14708      229.765888\n",
              "14709      229.979577\n",
              "14710      230.144023\n",
              "14711      230.270549\n",
              "14712      230.367903\n",
              "14713      230.442813\n",
              "14714      230.500451\n",
              "14715      230.544801"
            ]
          },
          "metadata": {
            "tags": []
          },
          "execution_count": 118
        }
      ]
    },
    {
      "cell_type": "code",
      "metadata": {
        "colab": {
          "base_uri": "https://localhost:8080/"
        },
        "id": "hAD5fFeaHA3x",
        "outputId": "acf5d0f8-caef-4865-88dd-d57341083006"
      },
      "source": [
        "results_df\r\n",
        "results_df['date'] = pd.date_range(start='7/14/2017 17:46', periods=len(results_df), freq='H')\r\n",
        "results_df.info()"
      ],
      "execution_count": 134,
      "outputs": [
        {
          "output_type": "stream",
          "text": [
            "<class 'pandas.core.frame.DataFrame'>\n",
            "RangeIndex: 14 entries, 14702 to 14715\n",
            "Data columns (total 2 columns):\n",
            " #   Column          Non-Null Count  Dtype         \n",
            "---  ------          --------------  -----         \n",
            " 0   predicted_mean  14 non-null     float64       \n",
            " 1   date            14 non-null     datetime64[ns]\n",
            "dtypes: datetime64[ns](1), float64(1)\n",
            "memory usage: 356.0 bytes\n"
          ],
          "name": "stdout"
        }
      ]
    },
    {
      "cell_type": "code",
      "metadata": {
        "colab": {
          "base_uri": "https://localhost:8080/",
          "height": 296
        },
        "id": "eNMLIrS3InW9",
        "outputId": "73022127-fb58-4bba-ddd8-8cf2c5301fae"
      },
      "source": [
        "results_df.plot(x='date')\r\n"
      ],
      "execution_count": 137,
      "outputs": [
        {
          "output_type": "execute_result",
          "data": {
            "text/plain": [
              "<matplotlib.axes._subplots.AxesSubplot at 0x7f61ac571ed0>"
            ]
          },
          "metadata": {
            "tags": []
          },
          "execution_count": 137
        },
        {
          "output_type": "display_data",
          "data": {
            "image/png": "[encoded data removed]",
            "text/plain": [
              "<Figure size 432x288 with 1 Axes>"
            ]
          },
          "metadata": {
            "tags": [],
            "needs_background": "light"
          }
        }
      ]
    },
    {
      "cell_type": "code",
      "metadata": {
        "id": "1gNDcDT7Hw6_"
      },
      "source": [
        "results_df.plot()"
      ],
      "execution_count": null,
      "outputs": []
    }
  ]
}