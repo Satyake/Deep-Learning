{
  "nbformat": 4,
  "nbformat_minor": 0,
  "metadata": {
    "colab": {
      "name": "Saving Loading and Entire Model",
      "provenance": [],
      "authorship_tag": "ABX9TyP+0N/ltdrdgw73y1bVo8Vy",
      "include_colab_link": true
    },
    "kernelspec": {
      "name": "python3",
      "display_name": "Python 3"
    },
    "language_info": {
      "name": "python"
    }
  },
  "cells": [
    {
      "cell_type": "markdown",
      "metadata": {
        "id": "view-in-github",
        "colab_type": "text"
      },
      "source": [
        "<a href=\"https://colab.research.google.com/github/Satyake/Deep-Learning/blob/master/Saving_Loading_and_Entire_Model.ipynb\" target=\"_parent\"><img src=\"https://colab.research.google.com/assets/colab-badge.svg\" alt=\"Open In Colab\"/></a>"
      ]
    },
    {
      "cell_type": "code",
      "execution_count": 11,
      "metadata": {
        "id": "QmkJ6sWtzVBp"
      },
      "outputs": [],
      "source": [
        "import tensorflow as tf \n",
        "from tensorflow.keras.layers import Dense, Flatten,Conv2D,MaxPooling2D\n",
        "from tensorflow.keras.models import Sequential"
      ]
    },
    {
      "cell_type": "code",
      "source": [
        "(x_train,y_train),(x_test,y_test)=tf.keras.datasets.cifar10.load_data()"
      ],
      "metadata": {
        "id": "639KL0vdsSA4"
      },
      "execution_count": 9,
      "outputs": []
    },
    {
      "cell_type": "code",
      "source": [
        "x_train=x_train[:10000]\n",
        "x_test=x_test[:1000]\n",
        "y_train=y_train[:10000]\n",
        "y_test=y_test[:1000]"
      ],
      "metadata": {
        "id": "-_LIXroQsZRC"
      },
      "execution_count": 10,
      "outputs": []
    },
    {
      "cell_type": "code",
      "source": [
        "def get_new_model():\n",
        "  model=Sequential([\n",
        "                    \n",
        "                    Conv2D(filters=16,input_shape=(32,32,3),kernel_size=(3,3),\n",
        "                           activation='relu'),\n",
        "                    Conv2D(filters=8,kernel_size=(3,3),activation='relu'),\n",
        "                    Flatten(),\n",
        "                    Dense(32,activation='relu'),\n",
        "                    Dense(10,activation='softmax')\n",
        "  ])\n",
        "\n",
        "\n",
        "\n",
        "  return model"
      ],
      "metadata": {
        "id": "1NfnQkc7sl8U"
      },
      "execution_count": 12,
      "outputs": []
    },
    {
      "cell_type": "code",
      "source": [
        "def compile_model(model):\n",
        "  model.compile(optimizer='adam',loss='sparse_categorical_crossentropy',metrics=['accuracy'])"
      ],
      "metadata": {
        "id": "JqC9iFuaw8JW"
      },
      "execution_count": 21,
      "outputs": []
    },
    {
      "cell_type": "code",
      "source": [
        "model1=get_new_model()\n",
        "model1.summary()"
      ],
      "metadata": {
        "colab": {
          "base_uri": "https://localhost:8080/"
        },
        "id": "Fy6fHR7fwCnZ",
        "outputId": "eb0ba461-de03-45c1-81fd-dde505607d98"
      },
      "execution_count": 14,
      "outputs": [
        {
          "output_type": "stream",
          "name": "stdout",
          "text": [
            "Model: \"sequential_1\"\n",
            "_________________________________________________________________\n",
            " Layer (type)                Output Shape              Param #   \n",
            "=================================================================\n",
            " conv2d_2 (Conv2D)           (None, 30, 30, 16)        448       \n",
            "                                                                 \n",
            " conv2d_3 (Conv2D)           (None, 28, 28, 8)         1160      \n",
            "                                                                 \n",
            " flatten_1 (Flatten)         (None, 6272)              0         \n",
            "                                                                 \n",
            " dense_2 (Dense)             (None, 32)                200736    \n",
            "                                                                 \n",
            " dense_3 (Dense)             (None, 10)                330       \n",
            "                                                                 \n",
            "=================================================================\n",
            "Total params: 202,674\n",
            "Trainable params: 202,674\n",
            "Non-trainable params: 0\n",
            "_________________________________________________________________\n"
          ]
        }
      ]
    },
    {
      "cell_type": "code",
      "source": [
        "from tensorflow.keras.callbacks import ModelCheckpoint\n"
      ],
      "metadata": {
        "id": "XycMjBd9wJHW"
      },
      "execution_count": 15,
      "outputs": []
    },
    {
      "cell_type": "code",
      "source": [
        "checkpoint_path='/content/checkpoints/'\n",
        "checkpoint=ModelCheckpoint(filepath=checkpoint_path,save_weights_only=False,frequency='epoch',verbose=1)"
      ],
      "metadata": {
        "id": "No-LxMeiwN7x"
      },
      "execution_count": 18,
      "outputs": []
    },
    {
      "cell_type": "code",
      "source": [
        "compile_model(model1)\n",
        "model1.fit(x_train,y_train,epochs=3,callbacks=[checkpoint])"
      ],
      "metadata": {
        "colab": {
          "base_uri": "https://localhost:8080/"
        },
        "id": "tTxprRzewqXe",
        "outputId": "5338043d-0b9e-4916-9d88-38182162ddd9"
      },
      "execution_count": 22,
      "outputs": [
        {
          "output_type": "stream",
          "name": "stdout",
          "text": [
            "Epoch 1/3\n",
            "313/313 [==============================] - ETA: 0s - loss: 3.0400 - accuracy: 0.0990\n",
            "Epoch 00001: saving model to /content/checkpoints/\n",
            "INFO:tensorflow:Assets written to: /content/checkpoints/assets\n",
            "313/313 [==============================] - 12s 35ms/step - loss: 3.0400 - accuracy: 0.0990\n",
            "Epoch 2/3\n",
            "313/313 [==============================] - ETA: 0s - loss: 2.3025 - accuracy: 0.0991\n",
            "Epoch 00002: saving model to /content/checkpoints/\n",
            "INFO:tensorflow:Assets written to: /content/checkpoints/assets\n",
            "313/313 [==============================] - 11s 34ms/step - loss: 2.3025 - accuracy: 0.0991\n",
            "Epoch 3/3\n",
            "312/313 [============================>.] - ETA: 0s - loss: 2.3024 - accuracy: 0.0989\n",
            "Epoch 00003: saving model to /content/checkpoints/\n",
            "INFO:tensorflow:Assets written to: /content/checkpoints/assets\n",
            "313/313 [==============================] - 11s 34ms/step - loss: 2.3024 - accuracy: 0.0988\n"
          ]
        },
        {
          "output_type": "execute_result",
          "data": {
            "text/plain": [
              "<keras.callbacks.History at 0x7f306cdd5b50>"
            ]
          },
          "metadata": {},
          "execution_count": 22
        }
      ]
    },
    {
      "cell_type": "code",
      "source": [
        "model1.evaluate(x_test,y_test)"
      ],
      "metadata": {
        "colab": {
          "base_uri": "https://localhost:8080/"
        },
        "id": "1NSBlNSF62pX",
        "outputId": "d212e625-4c44-46b7-e3ee-071a86e1be70"
      },
      "execution_count": 24,
      "outputs": [
        {
          "output_type": "stream",
          "name": "stdout",
          "text": [
            "32/32 [==============================] - 1s 18ms/step - loss: 2.3015 - accuracy: 0.1000\n"
          ]
        },
        {
          "output_type": "execute_result",
          "data": {
            "text/plain": [
              "[2.301470994949341, 0.10000000149011612]"
            ]
          },
          "metadata": {},
          "execution_count": 24
        }
      ]
    },
    {
      "cell_type": "code",
      "source": [
        "#delete  model\n",
        "del model1"
      ],
      "metadata": {
        "id": "2BRdiopQ7Dzd"
      },
      "execution_count": 25,
      "outputs": []
    },
    {
      "cell_type": "code",
      "source": [
        "from tensorflow.python.keras.saving.save import load_model\n",
        "#reload model\n",
        "\n",
        "model=load_model(checkpoint_path)"
      ],
      "metadata": {
        "id": "fNCBw6JR7I8i"
      },
      "execution_count": 26,
      "outputs": []
    },
    {
      "cell_type": "code",
      "source": [
        "model.evaluate(x_test,y_test)"
      ],
      "metadata": {
        "colab": {
          "base_uri": "https://localhost:8080/"
        },
        "id": "oLz8q_Ym7Rft",
        "outputId": "342a01ee-c30b-43c8-d4b4-f2eb6ef2d28b"
      },
      "execution_count": 28,
      "outputs": [
        {
          "output_type": "stream",
          "name": "stdout",
          "text": [
            "32/32 [==============================] - 1s 10ms/step - loss: 2.3015 - accuracy: 0.1000\n"
          ]
        },
        {
          "output_type": "execute_result",
          "data": {
            "text/plain": [
              "[2.301470994949341, 0.10000000149011612]"
            ]
          },
          "metadata": {},
          "execution_count": 28
        }
      ]
    },
    {
      "cell_type": "code",
      "source": [
        "model.save('my_model')"
      ],
      "metadata": {
        "colab": {
          "base_uri": "https://localhost:8080/"
        },
        "id": "MSut6Ciz7XII",
        "outputId": "39332d01-094e-4522-fb3a-7e3e94f8507e"
      },
      "execution_count": 29,
      "outputs": [
        {
          "output_type": "stream",
          "name": "stdout",
          "text": [
            "INFO:tensorflow:Assets written to: my_model/assets\n"
          ]
        }
      ]
    }
  ]
}